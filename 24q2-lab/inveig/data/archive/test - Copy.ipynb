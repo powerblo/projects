{
 "cells": [
  {
   "cell_type": "code",
   "execution_count": 2,
   "metadata": {},
   "outputs": [
    {
     "name": "stderr",
     "output_type": "stream",
     "text": [
      "c:\\Users\\Hanse Kim\\AppData\\Local\\Programs\\Python\\Python312\\Lib\\site-packages\\tqdm\\auto.py:21: TqdmWarning: IProgress not found. Please update jupyter and ipywidgets. See https://ipywidgets.readthedocs.io/en/stable/user_install.html\n",
      "  from .autonotebook import tqdm as notebook_tqdm\n"
     ]
    }
   ],
   "source": [
    "import torch, torch.nn as nn\n",
    "import numpy as np, matplotlib.pyplot as plt\n",
    "from tqdm.auto import tqdm\n",
    "\n",
    "def seq_mlp(init, mlp, fin, act):\n",
    "    modules = [nn.Linear(init, mlp[0]), act]\n",
    "    for i in range(len(mlp) - 1):\n",
    "        modules.append(nn.Linear(mlp[i], mlp[i+1]))\n",
    "        modules.append(act)\n",
    "\n",
    "    modules.append(nn.Linear(mlp[-1], fin)) #self.spl for spline\n",
    "\n",
    "    return modules\n",
    "\n",
    "def nan_hook(self, inp, output):\n",
    "    if not isinstance(output, tuple):\n",
    "        outputs = [output]\n",
    "    else:\n",
    "        outputs = output\n",
    "\n",
    "    for i, out in enumerate(outputs):\n",
    "        nan_mask = torch.isnan(out)\n",
    "        if nan_mask.any():\n",
    "            print(outputs)\n",
    "            print(\"In \", self.__class__.__name__)\n",
    "            raise RuntimeError(f\"Found NAN in output {i}\")"
   ]
  },
  {
   "cell_type": "code",
   "execution_count": 3,
   "metadata": {},
   "outputs": [],
   "source": [
    "class EvalEig(nn.Module):\n",
    "    def __init__(self, eval_para):\n",
    "        super().__init__()\n",
    "        self.rn = eval_para['r_dsc']*eval_para['para_1'] # maintain Delta r\n",
    "        self.rm = eval_para['r_infty']*eval_para['para_1'] # maintain V(infty) ~ 0\n",
    "        self.ln = eval_para['l_max']+1\n",
    "        self.para = eval_para\n",
    "\n",
    "        # l x r\n",
    "        self.r_dsc = torch.linspace(self.rm/self.rn, self.rm, self.rn)\n",
    "        self.l_dsc = torch.arange(0,self.ln, dtype = torch.int).view(1,-1,1,1)\n",
    "        \n",
    "        self.r_dsc_pw = (torch.linspace(1/self.rn, 1, self.rn).view(-1,1).expand(-1,eval_para['pw']+1)**(torch.cat((torch.tensor([-1]), torch.arange(1, eval_para['pw']+1))))).T\n",
    "    \n",
    "    def dsc_eigs(self, ptl):\n",
    "        dsc_lap = (-2*torch.eye(self.rn) + torch.diag(torch.ones(self.rn-1),1) + torch.diag(torch.ones(self.rn-1),-1))*(self.rn/self.rm)**2\n",
    "        dsc_lap = dsc_lap.view(1, 1, self.rn, self.rn)\n",
    "        dsc_ptl = torch.diag_embed(ptl).view(ptl.shape[0],1,self.rn,self.rn)\n",
    "        dsc_eff = self.l_dsc*(self.l_dsc+1)*torch.diag(1/self.r_dsc**2).view(1, 1, self.rn,self.rn)\n",
    "        \n",
    "        dsc_hmt = (-self.para['para_0']*dsc_lap + dsc_ptl + self.para['para_0']*dsc_eff)\n",
    "\n",
    "        #print(dsc_hmt)\n",
    "\n",
    "        evl, _ = torch.linalg.eigh(dsc_hmt)\n",
    "        # bound state condition\n",
    "        # evl[evl>0] = torch.tensor(0)\n",
    "\n",
    "        return evl\n",
    "\n",
    "class InvEig(EvalEig):\n",
    "    def __init__(self, clip_size, eval_para, model_para):\n",
    "        super().__init__(eval_para)\n",
    "        # model\n",
    "        modules = seq_mlp(init = clip_size*self.ln, mlp = model_para['mlp'],\n",
    "                          fin = eval_para['pw'] + 1, act = nn.ReLU())\n",
    "        self.mlp = nn.Sequential(*modules)\n",
    "\n",
    "\n",
    "    def forward(self, energy):\n",
    "        # obtain potential via model\n",
    "        # via mlp\n",
    "        coeffs_temp = self.mlp(energy.reshape(energy.shape[0]*energy.shape[1],energy.shape[2]))\n",
    "        self.coeffs = torch.cat((-torch.abs(coeffs_temp[:,:1]),coeffs_temp[:,1:]),dim=1)\n",
    "        ptl_md = self.coeffs @ self.r_dsc_pw\n",
    "\n",
    "        # calculate learned energy\n",
    "        evl_md = self.dsc_eigs(ptl_md)\n",
    "\n",
    "        return ptl_md, evl_md"
   ]
  },
  {
   "cell_type": "code",
   "execution_count": 40,
   "metadata": {},
   "outputs": [],
   "source": [
    "eval_para = {\n",
    "        # evaluation model\n",
    "        'r_infty' : 50, # high r_infty maintains V(infty) ~ 0\n",
    "        'r_dsc' : 1000, # computation time vs accuracy; maintain delta r ~ 0\n",
    "        'l_max' : 0, # maximum l_max to evaluate radial schrodinger upto\n",
    "        \n",
    "        # potential specifics\n",
    "        'ptl_form' : 'coulomb',\n",
    "        'para_0' : 1, # hbar^2/2m\n",
    "        'para_1' : 1, # scales energy; scales horizontally (r_rat) and modelwise (r_dsc)\n",
    "\n",
    "        # model specifics\n",
    "        'precision' : 64, # 32 or 64 bit\n",
    "        'pw' : 20, # consider 1/r and up to r^n\n",
    "        'batch_dim' : 400,\n",
    "        }\n",
    "\n",
    "model_para = {\n",
    "        # model\n",
    "        'mlp' : [100, 100, 100],\n",
    "\n",
    "        # training\n",
    "        'epoch' : 100,\n",
    "        'lr' : 1e-2,\n",
    "\n",
    "        # loss regularisation\n",
    "        'reg1' : 1e-1, # smoothness\n",
    "        \n",
    "        }"
   ]
  },
  {
   "cell_type": "code",
   "execution_count": 54,
   "metadata": {},
   "outputs": [
    {
     "data": {
      "text/plain": [
       "<matplotlib.legend.Legend at 0x27cfc888c50>"
      ]
     },
     "execution_count": 54,
     "metadata": {},
     "output_type": "execute_result"
    },
    {
     "data": {
      "image/png": "[encoded data removed]",
      "text/plain": [
       "<Figure size 640x480 with 1 Axes>"
      ]
     },
     "metadata": {},
     "output_type": "display_data"
    }
   ],
   "source": [
    "eval = EvalEig(eval_para)\n",
    "clip_size = 30\n",
    "# robustness test\n",
    "ptl_tr_near = -8/eval.r_dsc + 20*torch.exp(-eval.r_dsc/5)*eval.r_dsc/5\n",
    "#ptl_tr_near = -8/eval.r_dsc\n",
    "\n",
    "def taylor(n):\n",
    "    ptl = -8/eval.r_dsc \n",
    "    term = 20*eval.r_dsc/5\n",
    "    for i in range(n):\n",
    "        ptl += term\n",
    "        term = term * (-eval.r_dsc/5)/(i+1)\n",
    "    return ptl\n",
    "\n",
    "evl_tr_near = eval.dsc_eigs(ptl_tr_near.reshape(1,1,eval.rn))\n",
    "\n",
    "plt.plot(eval.r_dsc, ptl_tr_near, label='true', color = 'red')\n",
    "plt.plot(eval.r_dsc, taylor(25), label='taylor 25', color = 'green')\n",
    "plt.plot(eval.r_dsc, taylor(28), label='taylor 28', color = 'orange')\n",
    "plt.plot(eval.r_dsc, taylor(30), label='taylor 30', color = 'blue')\n",
    "plt.plot(eval.r_dsc, taylor(50), label='taylor 50', color = 'black')\n",
    "#plt.plot(eval.r_dsc, ptl_init[i].squeeze(0).detach(), label='model_i', color = 'green')\n",
    "plt.annotate(f\"Near\", xy = (0.75, 0.5), xycoords=\"axes fraction\")\n",
    "plt.legend()"
   ]
  },
  {
   "cell_type": "code",
   "execution_count": null,
   "metadata": {},
   "outputs": [],
   "source": []
  }
 ],
 "metadata": {
  "kernelspec": {
   "display_name": "Python 3",
   "language": "python",
   "name": "python3"
  },
  "language_info": {
   "codemirror_mode": {
    "name": "ipython",
    "version": 3
   },
   "file_extension": ".py",
   "mimetype": "text/x-python",
   "name": "python",
   "nbconvert_exporter": "python",
   "pygments_lexer": "ipython3",
   "version": "3.12.0"
  }
 },
 "nbformat": 4,
 "nbformat_minor": 2
}
