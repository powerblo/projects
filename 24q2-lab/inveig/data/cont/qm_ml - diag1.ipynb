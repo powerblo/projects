{
 "cells": [
  {
   "cell_type": "code",
   "execution_count": 1,
   "metadata": {},
   "outputs": [
    {
     "name": "stderr",
     "output_type": "stream",
     "text": [
      "c:\\Users\\Hanse Kim\\AppData\\Local\\Programs\\Python\\Python312\\Lib\\site-packages\\tqdm\\auto.py:21: TqdmWarning: IProgress not found. Please update jupyter and ipywidgets. See https://ipywidgets.readthedocs.io/en/stable/user_install.html\n",
      "  from .autonotebook import tqdm as notebook_tqdm\n"
     ]
    }
   ],
   "source": [
    "import torch, torch.nn as nn\n",
    "import numpy as np, matplotlib.pyplot as plt\n",
    "import itertools\n",
    "from tqdm.auto import tqdm\n",
    "\n",
    "def seq_mlp(init, mlp, fin, act):\n",
    "    modules = [nn.Linear(init, mlp[0]), act]\n",
    "    for i in range(len(mlp) - 1):\n",
    "        modules.append(nn.Linear(mlp[i], mlp[i+1]))\n",
    "        modules.append(act)\n",
    "\n",
    "    modules.append(nn.Linear(mlp[-1], fin)) #self.spl for spline\n",
    "\n",
    "    return modules"
   ]
  },
  {
   "cell_type": "code",
   "execution_count": 45,
   "metadata": {},
   "outputs": [],
   "source": [
    "class EvalEig(nn.Module):\n",
    "    def __init__(self, eval_para):\n",
    "        super().__init__()   \n",
    "        self.ln = eval_para['l_max']\n",
    "        self.pw = eval_para['pw']\n",
    "        self.batch_dim = eval_para['batch_dim']\n",
    "        self.coeff_max = eval_para['coeff_max']\n",
    "\n",
    "    def set_rdsc(self, rm, rn):\n",
    "        self.rn = rn\n",
    "        self.rm = rm\n",
    "        self.r_dsc = torch.linspace(rm/rn, rm, rn)\n",
    "        # batch x L x RxR\n",
    "        self.l_dsc = torch.arange(0,self.ln+1, dtype = torch.int).view(1,-1,1,1)\n",
    "    \n",
    "    # set depends on range and distribution of values for coefficients\n",
    "    def taylor_tr(self, para_ptl, ptl_form):\n",
    "        coeffs_tr = torch.rand(self.batch_dim, self.pw+1)*para_ptl\n",
    "\n",
    "        if ptl_form == \"coulomb\":\n",
    "            coeffs_tr[:,0] = -1 + coeffs_tr[:,0]/10\n",
    "            coeffs_tr[:,1:] = torch.tensor([0])\n",
    "        elif ptl_form == \"coulomb_like\":\n",
    "            coeffs_tr[:,0] = -1 + coeffs_tr[:,0]/10\n",
    "            coeffs_tr[:,1:] = coeffs_tr[:,1:]*self.coeff_max\n",
    "        elif ptl_form == \"sho\":\n",
    "            coeffs_tr[:,0:] = torch.tensor([0])\n",
    "            coeffs_tr[:,2] = 1\n",
    "        elif ptl_form == \"zero\":\n",
    "            coeffs_tr[:,0:] = torch.tensor([0])\n",
    "\n",
    "        ptl_tr = coeffs_tr @ self.r_dsc_pw\n",
    "        # batch x R\n",
    "        return para_ptl*ptl_tr\n",
    "    \n",
    "    def fixed_tr(self, para_ptl, ptl_form):\n",
    "        if ptl_form == \"coulomb\":\n",
    "            #coeffs_tr = 1 + torch.rand(self.batch_dim, 1)/10\n",
    "            coeffs_tr = torch.ones(self.batch_dim, 1)\n",
    "            return -coeffs_tr*para_ptl/self.r_dsc.view(1,-1)\n",
    "    \n",
    "    def dsc_eigs(self, ptl):\n",
    "        dsc_lap = (-2*torch.eye(self.rn) + torch.diag(torch.ones(self.rn-1),1) + torch.diag(torch.ones(self.rn-1),-1))/(2*(self.rm/self.rn)**2)\n",
    "        dsc_lap = dsc_lap.view(1, 1, self.rn, self.rn)\n",
    "        dsc_ptl = torch.diag_embed(ptl).view(self.batch_dim, 1, self.rn, self.rn)\n",
    "\n",
    "        #dsc_lap = (-2*torch.eye(2*self.rn+1) + torch.diag(torch.ones(2*self.rn),1) + torch.diag(torch.ones(2*self.rn),-1))#/(2*(self.rm/self.rn)**2)\n",
    "        #dsc_lap = dsc_lap.view(1, 1, 2*self.rn+1, 2*self.rn+1)\n",
    "        #ptl_sym = torch.cat((torch.flip(ptl, dims = (1,)), torch.tensor([[1e-3]]), ptl), dim = 1)\n",
    "        #dsc_ptl = torch.diag_embed(ptl_sym).view(self.batch_dim, 1, 2*self.rn+1, 2*self.rn+1)\n",
    "        #r_dsc_sym = torch.cat((torch.flip(self.r_dsc, dims = (0,)), torch.tensor([1e-3]), self.r_dsc), dim = 0)\n",
    "\n",
    "        #dsc_eff = self.l_dsc*(self.l_dsc+1)*torch.diag(1/r_dsc_sym**2).view(1, 1, 2*self.rn+1, 2*self.rn+1)\n",
    "        dsc_eff = self.l_dsc*(self.l_dsc+1)*torch.diag(1/self.r_dsc**2).view(1, 1, self.rn, self.rn)\n",
    "        dsc_hmt = -1*dsc_lap + dsc_ptl + 1*dsc_eff # fix coefficient hba^2/2m = 1\n",
    "\n",
    "        evl, _ = torch.linalg.eigh(dsc_hmt)\n",
    "\n",
    "        return evl\n",
    "    \n",
    "    def evl_cutoff(self, evl):\n",
    "        cutoff = evl.shape[2]\n",
    "        for i in range(evl.shape[1]):\n",
    "            cutoff = min(cutoff, evl[:,i][evl[:,i]<0].shape[0])\n",
    "        cutoff = max(cutoff - 5, 5)\n",
    "\n",
    "        self.cutoff = cutoff\n",
    "        return cutoff\n",
    "    \n",
    "    def evl_scl(self, evl):\n",
    "        evl_scl = (evl/evl[:,:,0].view(evl.shape[0],evl.shape[1],1).expand(-1, evl.shape[1], evl.shape[2]))[:,:,1:]\n",
    "        return evl_scl\n",
    "    \n",
    "    def forward(self, rm, rn, para_ptl, ptl_form):\n",
    "        self.set_rdsc(rm, rn)\n",
    "        ptl_tr = self.fixed_tr(para_ptl, ptl_form)\n",
    "        evl_tr = self.dsc_eigs(ptl_tr) # eval true eigenvalues\n",
    "        evl_tr_cut = evl_tr[:,:,:self.evl_cutoff(evl_tr)]\n",
    "        evl_tr_scl = self.evl_scl(evl_tr_cut)\n",
    "\n",
    "        return ptl_tr, evl_tr_scl\n",
    "\n",
    "class InvEig(EvalEig):\n",
    "    def __init__(self, eval_para, model_para):\n",
    "        super().__init__(eval_para)\n",
    "\n",
    "    def set_rdsc(self, rm, rn, cutoff):\n",
    "        self.rn = rn\n",
    "        self.rm = rm\n",
    "        self.r_dsc = torch.linspace(rm/rn, rm, rn)\n",
    "        # batch x L x RxR\n",
    "        self.l_dsc = torch.arange(0,self.ln+1, dtype = torch.int).view(1,-1,1,1)\n",
    "        self.cutoff_md = cutoff\n",
    "\n",
    "        # initialise model\n",
    "        #self.ptl = nn.Parameter(torch.rand(self.batch_dim, self.rn-1)) # random parameters\n",
    "        #modules = seq_mlp(init = self.rn, mlp = model_para['mlp'], fin = self.rn-1, act = nn.ReLU())\n",
    "        modules = seq_mlp(init = 1, mlp = model_para['mlp'], fin = 1, act = nn.ReLU())\n",
    "        self.mlp = nn.Sequential(*modules)\n",
    "        self.expn = nn.Parameter(torch.tensor([1.]))\n",
    "\n",
    "    def forward(self, energy):\n",
    "        # obtain potential via model\n",
    "        #ptl_md = torch.cat((torch.tensor([-self.rn/self.rm]).view(1,-1).expand(self.batch_dim,-1),self.ptl),dim=1) # random parameters\n",
    "        #ptl_md = torch.cat((torch.tensor([-self.rn/self.rm]).view(1,-1).expand(self.batch_dim,-1),self.mlp(self.r_dsc).view(1,-1).expand(self.batch_dim,-1)),dim=1) # random parameters\n",
    "        #ptl_md = self.mlp(self.r_dsc.view(-1,1)).view(1,-1).expand(self.batch_dim,-1)*(1/self.r_dsc**self.expn)\n",
    "        ptl_md = self.mlp(self.r_dsc.view(-1,1)).view(1,-1).expand(self.batch_dim,-1)*(1/self.r_dsc)\n",
    "\n",
    "        evl_md = self.dsc_eigs(ptl_md)\n",
    "        evl_md_cut = evl_md[:,:,:self.cutoff_md]\n",
    "        evl_md_scl = self.evl_scl(evl_md_cut)\n",
    "\n",
    "        return ptl_md, evl_md_scl\n"
   ]
  },
  {
   "cell_type": "code",
   "execution_count": 50,
   "metadata": {},
   "outputs": [],
   "source": [
    "eval_para = {\n",
    "        # evaluation model\n",
    "        #'r_infty' : 1, # keep as <1 for numerical stability of taylor series\n",
    "        #'rn' : 1000, # computation time vs accuracy; maintain delta r ~ 0\n",
    "        'l_max' : 2, # maximum l_max to evaluate radial schrodinger upto\n",
    "        \n",
    "        # potential specifics\n",
    "        #'para_1' : 1e-3, # scales energy; ensure r_infty * para_1 < 1e-3 (roughly V(r_infty) << 1)\n",
    "\n",
    "        # training data specifics\n",
    "        #'ptl_form' : 'sho', # coulomb, coulomb_like\n",
    "        'pw' : 20, # consider 1/r and up to r^n\n",
    "        'coeff_max' : 100,\n",
    "\n",
    "        # model specifics\n",
    "        'precision' : 64, # 32 or 64 bit\n",
    "        'batch_dim' : 1,\n",
    "        }\n",
    "\n",
    "model_para = {\n",
    "        # model\n",
    "        'mlp' : [100, 100],\n",
    "\n",
    "        # training\n",
    "        'epoch' : 100,\n",
    "        'lr' : 1e-2,\n",
    "\n",
    "        # loss regularisation\n",
    "        'reg1' : 1e-1, # smoothness\n",
    "        \n",
    "        }\n",
    "\n",
    "eval = EvalEig(eval_para)"
   ]
  },
  {
   "cell_type": "code",
   "execution_count": 51,
   "metadata": {},
   "outputs": [],
   "source": [
    "#eval_grid = [[800], \\\n",
    "#    [10000], \\\n",
    "#        [1, 1, 1, 1, 1, 1, 1, 1, 1, 1]] # rm, rn, para_1\n",
    "#for midx in itertools.product(*eval_grid):\n",
    "#for midx in zip(*eval_grid):\n",
    "    #eval.set_rdsc(midx[0], midx[1])\n",
    "    #ptl_tr = eval.fixed_tr(midx[2], \"coulomb\")\n",
    "    #evl_scl_tr = eval.dsc_eigs(ptl_tr)\n",
    "    #evl_tr = evl_scl_tr[:,:,:eval.evl_cutoff(evl_scl_tr)]\n",
    "#    ptl_tr, evl_tr = eval(midx[0], midx[1], midx[2], \"coulomb\")\n",
    "#    factor = torch.mean(1/evl_tr, dim = 0)\n",
    "#    print(factor[0])\n",
    "#    print(midx, nn.L1Loss()(factor[0],torch.arange(1,factor.shape[1]+1)**2), evl_tr[0,0,0])"
   ]
  },
  {
   "cell_type": "code",
   "execution_count": 52,
   "metadata": {},
   "outputs": [
    {
     "name": "stdout",
     "output_type": "stream",
     "text": [
      "tensor([[[  3.6429,   8.0305,  14.1701,  22.0633,  31.7103,  43.1106,  56.2654,\n",
      "           71.1736,  87.8369, 106.2513, 126.4220, 148.3455, 172.0238, 197.4539,\n",
      "          224.6383, 253.5773],\n",
      "         [  1.9309,   3.1663,   4.7068,   6.5528,   8.7043,  11.1611,  13.9238,\n",
      "           16.9920,  20.3655,  24.0447,  28.0293,  32.3202,  36.9165,  41.8185,\n",
      "           47.0262,  52.5703],\n",
      "         [  1.5620,   2.2487,   3.0603,   3.9967,   5.0582,   6.2446,   7.5561,\n",
      "            8.9925,  10.5542,  12.2405,  14.0522,  15.9886,  18.0503,  20.2384,\n",
      "           22.5957,  25.4611]]])\n"
     ]
    }
   ],
   "source": [
    "ptl_tr, evl_tr = eval(800, 1000, 1, \"coulomb\")\n",
    "\n",
    "print(1/evl_tr)"
   ]
  },
  {
   "cell_type": "code",
   "execution_count": 53,
   "metadata": {},
   "outputs": [
    {
     "name": "stderr",
     "output_type": "stream",
     "text": [
      "Progress:   3%|\u001b[34m▎         \u001b[0m| 30/1000 [00:15<08:09,  1.98it/s]\n",
      "Progress: 100%|\u001b[34m██████████\u001b[0m| 100/100 [00:18<00:00,  5.72it/s]"
     ]
    }
   ],
   "source": [
    "model = InvEig(eval_para, model_para)\n",
    "model.set_rdsc(800, 1000, eval.cutoff)\n",
    "\n",
    "optimiser = torch.optim.Adam(model.parameters(), lr = model_para['lr'])\n",
    "epochs = model_para['epoch']\n",
    "pbar = tqdm(range(epochs), desc='Progress', total=epochs, leave = True, position=0, colour='blue')\n",
    "loss_list = [[],[]]\n",
    "\n",
    "for e in range(epochs):\n",
    "    #ptl_md, evl_md = model(hp['true'])\n",
    "    #with torch.autograd.detect_anomaly():\n",
    "    \n",
    "    ptl_md, evl_md = model(evl_tr)\n",
    "    if e == 0:\n",
    "        ptl_init = ptl_md\n",
    "\n",
    "    loss0 = nn.L1Loss()(evl_tr, evl_md)\n",
    "    #loss = nn.L1Loss()(ptl_md, ptl_tr)\n",
    "\n",
    "    loss1 = torch.sum((ptl_md[:,1:]-ptl_md[:,:-1])**2)\n",
    "\n",
    "    loss_list[0].append(loss0.item())\n",
    "    loss_list[1].append(loss1.item())\n",
    "\n",
    "    loss = loss0# + model_para['reg1']*loss1\n",
    "\n",
    "    optimiser.zero_grad()\n",
    "    loss.backward()\n",
    "    optimiser.step()\n",
    "\n",
    "    pbar.update()"
   ]
  },
  {
   "cell_type": "code",
   "execution_count": 54,
   "metadata": {},
   "outputs": [],
   "source": [
    "torch.save(model.state_dict(), f\"{eval_para['batch_dim']}.pth\")\n",
    "#model.load_state_dict(torch.load('.pth'))"
   ]
  },
  {
   "cell_type": "code",
   "execution_count": 57,
   "metadata": {},
   "outputs": [
    {
     "data": {
      "image/png": "[encoded data removed]",
      "text/plain": [
       "<Figure size 640x480 with 1 Axes>"
      ]
     },
     "metadata": {},
     "output_type": "display_data"
    }
   ],
   "source": [
    "plt.figure()\n",
    "i = 0\n",
    "plt.plot(eval.r_dsc, ptl_tr[i], label='true', color = 'red')\n",
    "plt.plot(eval.r_dsc, ptl_init[i].squeeze(0).detach(), label='model_i', color = 'green')\n",
    "#plt.plot(eval.r_dsc, ptl_md[i].squeeze(0).detach(), label='model', color = 'blue')\n",
    "plt.legend()\n",
    "plt.annotate(f\"E L1Loss : {loss:.2f}\", xy = (0.75, 0.3), xycoords=\"axes fraction\")\n",
    "plt.annotate(f\"V L1Loss : {nn.L1Loss()(ptl_tr[i], ptl_md[i]).item():.2f}\", xy = (0.75, 0.25), xycoords=\"axes fraction\")\n",
    "plt.savefig(f\"{eval_para['batch_dim']}_{eval_para['pw']}_{i}ptl.png\")"
   ]
  },
  {
   "cell_type": "code",
   "execution_count": 29,
   "metadata": {},
   "outputs": [
    {
     "data": {
      "image/png": "[encoded data removed]",
      "text/plain": [
       "<Figure size 640x480 with 1 Axes>"
      ]
     },
     "metadata": {},
     "output_type": "display_data"
    }
   ],
   "source": [
    "plt.figure()\n",
    "j = 20\n",
    "plt.plot(range(epochs-j), loss_list[0][j:])\n",
    "#plt.plot(range(epochs-j), loss_list[1][j:])\n",
    "plt.savefig(f\"{eval_para['batch_dim']}_{eval_para['pw']}_loss.png\")"
   ]
  },
  {
   "cell_type": "code",
   "execution_count": null,
   "metadata": {},
   "outputs": [],
   "source": []
  }
 ],
 "metadata": {
  "kernelspec": {
   "display_name": "Python 3",
   "language": "python",
   "name": "python3"
  },
  "language_info": {
   "codemirror_mode": {
    "name": "ipython",
    "version": 3
   },
   "file_extension": ".py",
   "mimetype": "text/x-python",
   "name": "python",
   "nbconvert_exporter": "python",
   "pygments_lexer": "ipython3",
   "version": "3.12.0"
  }
 },
 "nbformat": 4,
 "nbformat_minor": 2
}
