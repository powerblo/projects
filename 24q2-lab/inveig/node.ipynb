{
  "cells": [
    {
      "cell_type": "code",
      "metadata": {
        "jukit_cell_id": "4EsaucioNG"
      },
      "source": [
        "import torch, torch.nn as nn\n",
        "import numpy as np, matplotlib.pyplot as plt\n",
        "from tqdm.auto import tqdm\n",
        "from torchdiffeq import odeint\n",
        "\n",
        "def seq_mlp(init, mlp, fin, act):\n",
        "    modules = [nn.Linear(init, mlp[0]), act]\n",
        "    for i in range(len(mlp) - 1):\n",
        "        modules.append(nn.Linear(mlp[i], mlp[i+1]))\n",
        "        modules.append(act)\n",
        "\n",
        "    modules.append(nn.Linear(mlp[-1], fin)) #self.spl for spline\n",
        "\n",
        "    return modules"
      ],
      "outputs": [],
      "execution_count": null
    },
    {
      "cell_type": "code",
      "metadata": {
        "jukit_cell_id": "OgpsVD15m6"
      },
      "source": [
        "class EvalEig(nn.Module):\n",
        "    def __init__(self, para, evl):\n",
        "        super().__init__()\n",
        "        self.rn = para['rn']\n",
        "        self.rm = para['rm']\n",
        "        self.r_dsc = torch.linspace(self.rm/self.rn, self.rm, self.rn)\n",
        "        \n",
        "        self.evl = evl\n",
        "        \n",
        "        ptl_modules = seq_mlp(init = 1, mlp = para['mlp'], fin = 1, act = nn.ReLU())\n",
        "        self.ptl_mlp = nn.Sequential(*ptl_modules)\n",
        "    \n",
        "    def ode_func(self, r_dsc, init_rad):\n",
        "        rad = init_rad[:,0]\n",
        "        rad_d = init_rad[:,1]\n",
        "        \n",
        "        #ptl_rs = self.ptl_mlp(r_dsc.view(-1)).expand(self.evl.shape[0])\n",
        "        ptl_rs = -2/r_dsc.view(-1).expand(self.evl.shape[0])\n",
        "        evl_rs = self.evl # shape B x 1 x 1\n",
        "\n",
        "        rad_dd = (ptl_rs - evl_rs) * rad\n",
        "\n",
        "        derivs = torch.stack([rad_d, rad_dd.squeeze(-1)],dim=-1)\n",
        "        return derivs\n",
        "\n",
        "    def forward(self):\n",
        "        init_rad_rs = torch.stack([torch.zeros(self.evl.shape[0]),\n",
        "                                   torch.ones(self.evl.shape[0])],dim=-1)\n",
        "        rad_md = odeint(self.ode_func, init_rad_rs, self.r_dsc,\n",
        "                        rtol = 1e-6, atol = 1e-9, method='dopri5')\n",
        "\n",
        "        return rad_md"
      ],
      "outputs": [],
      "execution_count": null
    },
    {
      "cell_type": "code",
      "metadata": {
        "jukit_cell_id": "P85EjLGoIH"
      },
      "source": [
        "para = {\n",
        "        'rm' : 200,\n",
        "        'rn' : 10000,\n",
        "\n",
        "        # model\n",
        "        'mlp' : [10,10,10],\n",
        "\n",
        "        # training\n",
        "        'epoch' : 1000,\n",
        "        'lr' : 1e-2,\n",
        "\n",
        "        # loss regularisation\n",
        "        'reg0' : 1,\n",
        "        'reg1' : 0,\n",
        "        'reg2' : 1e4,\n",
        "}\n",
        "\n",
        "\n",
        "#evl_tr = -torch.arange(1,100).to(torch.float32)**(-2)/1000\n",
        "evl_tr = torch.linspace(-0.05,0.1,1000)\n",
        "\n",
        "model = EvalEig(para, evl_tr)"
      ],
      "outputs": [],
      "execution_count": null
    },
    {
      "cell_type": "code",
      "metadata": {
        "jukit_cell_id": "WJLzRC6IEm"
      },
      "source": [
        "optimiser = torch.optim.Adam(model.parameters(), lr = para['lr'])\n",
        "epochs = para['epoch']\n",
        "pbar = tqdm(range(epochs), desc='Progress', total=epochs, leave = True, position=0, colour='blue')\n",
        "loss_list = [[],[],[]]\n",
        "\n",
        "rad_md = model()\n",
        "plt.figure()\n",
        "plt.plot(evl_tr,rad_md[-1,:,0])"
      ],
      "outputs": [
        {
          "output_type": "stream",
          "name": "stdout",
          "text": "\n"
        },
        {
          "data": {
            "image/png": "[encoded data removed]"
          },
          "metadata": {},
          "output_type": "display_data"
        },
        {
          "output_type": "stream",
          "name": "stdout",
          "text": "\n"
        },
        {
          "output_type": "execute_result",
          "execution_count": 1,
          "data": {
            "text/plain": "[<matplotlib.lines.Line2D at 0x76ae8722e210>]"
          },
          "metadata": {}
        }
      ],
      "execution_count": 1
    },
    {
      "cell_type": "code",
      "metadata": {
        "jukit_cell_id": "wePZ4360pg"
      },
      "source": [
        "for e in range(epochs):\n",
        "    #with torch.autograd.detect_anomaly():\n",
        "    ptl_md, rad_md, loss0 = model()\n",
        "    \n",
        "    loss1 = torch.abs(ptl_md[-1])\n",
        "    loss2 = torch.sqrt(torch.sum(rad_md[:,0]**2 + rad_md[:,-1]**2))\n",
        "    loss = para['reg0']*loss0 + para['reg1']*loss1 + para['reg2']*loss2\n",
        "\n",
        "    loss_list[0].append(loss0.item())\n",
        "    loss_list[1].append(loss1.item())\n",
        "    loss_list[2].append(loss2.item())\n",
        "\n",
        "    optimiser.zero_grad()\n",
        "    loss.backward()\n",
        "    optimiser.step()\n",
        "\n",
        "    pbar.update()\n",
        "    #print(loss.item())"
      ],
      "outputs": [],
      "execution_count": null
    },
    {
      "cell_type": "code",
      "metadata": {
        "jukit_cell_id": "I83gApPhjy"
      },
      "source": [
        "plt.figure()\n",
        "plt.plot(model.r_dsc.detach(), ptl_md.detach())\n",
        "plt.show()"
      ],
      "outputs": [],
      "execution_count": null
    },
    {
      "cell_type": "code",
      "metadata": {
        "jukit_cell_id": "HGfqpL7M7D"
      },
      "source": [
        "plt.figure()\n",
        "plt.plot(model.r_dsc.detach(), rad_md[0].detach())\n",
        "plt.plot(model.r_dsc.detach(), rad_md[1].detach())\n",
        "plt.plot(model.r_dsc.detach(), rad_md[2].detach())\n",
        "plt.show()"
      ],
      "outputs": [],
      "execution_count": null
    },
    {
      "cell_type": "code",
      "metadata": {
        "jukit_cell_id": "9PeZd3M3YA"
      },
      "source": [
        "plt.figure()\n",
        "j = 0\n",
        "print(loss0.item(),loss1.item(),loss2.item())\n",
        "plt.plot(np.arange(j,epochs), loss_list[0][j:])\n",
        "#plt.plot(np.arange(j,epochs), loss_list[1][j:])\n",
        "plt.plot(np.arange(j,epochs), loss_list[2][j:])"
      ],
      "outputs": [],
      "execution_count": null
    },
    {
      "cell_type": "code",
      "metadata": {
        "jukit_cell_id": "2yzR9m31Ac"
      },
      "source": [],
      "outputs": [],
      "execution_count": null
    }
  ],
  "metadata": {
    "anaconda-cloud": {},
    "kernelspec": {
      "display_name": "python",
      "language": "python",
      "name": "python3"
    }
  },
  "nbformat": 4,
  "nbformat_minor": 4
}