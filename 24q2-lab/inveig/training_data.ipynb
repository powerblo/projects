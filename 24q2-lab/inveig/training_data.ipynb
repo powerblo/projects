{
 "cells": [
  {
   "cell_type": "code",
   "execution_count": 1,
   "metadata": {},
   "outputs": [
    {
     "name": "stderr",
     "output_type": "stream",
     "text": [
      "C:\\Users\\hanse\\AppData\\Local\\Packages\\PythonSoftwareFoundation.Python.3.11_qbz5n2kfra8p0\\LocalCache\\local-packages\\Python311\\site-packages\\tqdm\\auto.py:21: TqdmWarning: IProgress not found. Please update jupyter and ipywidgets. See https://ipywidgets.readthedocs.io/en/stable/user_install.html\n",
      "  from .autonotebook import tqdm as notebook_tqdm\n"
     ]
    }
   ],
   "source": [
    "import torch, torch.nn as nn\n",
    "import numpy as np, matplotlib.pyplot as plt\n",
    "import scipy.sparse as sparse\n",
    "from tqdm.auto import tqdm\n",
    "\n",
    "def seq_mlp(init, mlp, fin, act):\n",
    "    modules = [nn.Linear(init, mlp[0]), act]\n",
    "    for i in range(len(mlp) - 1):\n",
    "        modules.append(nn.Linear(mlp[i], mlp[i+1]))\n",
    "        modules.append(act)\n",
    "\n",
    "    modules.append(nn.Linear(mlp[-1], fin)) #self.spl for spline\n",
    "\n",
    "    return modules"
   ]
  },
  {
   "cell_type": "code",
   "execution_count": 2,
   "metadata": {},
   "outputs": [],
   "source": [
    "class EvalEig(nn.Module):\n",
    "    def __init__(self, eval_para):\n",
    "        super().__init__()\n",
    "        self.bd = eval_para['batch_dim']\n",
    "\n",
    "    def set_rdsc(self, xm, xn):\n",
    "        self.xn = xn\n",
    "        self.xm = xm\n",
    "    \n",
    "    def mesh_ptl(self, posx, posy): # input shape (bd, p_num)\n",
    "        X, Y = np.meshgrid(np.linspace(-self.xm, self.xm, self.xn),\n",
    "                            np.linspace(-self.xm, self.xm, self.xn), indexing = 'ij')\n",
    "        X_broad, Y_broad = X[np.newaxis,np.newaxis,:,:], Y[np.newaxis,np.newaxis,:,:]\n",
    "        posx_broad, posy_broad = posx[:,:,np.newaxis,np.newaxis], posy[:,:,np.newaxis,np.newaxis]\n",
    "\n",
    "        dist = np.sqrt((X_broad-posx_broad)**2+(Y_broad-posy_broad)**2)\n",
    "        dist[dist==0] = np.finfo(float).eps\n",
    "\n",
    "        ptl = np.sum(-1/dist,axis=1)\n",
    "        return ptl # shape (bd, xn, xn)\n",
    "    \n",
    "    def mesh_hml(self, term_ptl):\n",
    "        dx = 2*self.xm/(self.xn-1)\n",
    "        diag = [np.full(self.xn, -2/dx**2), np.full(self.xn-1, 1/dx**2), np.full(self.xn-1, 1/dx**2)]\n",
    "\n",
    "        term_kin_partial = sparse.diags(diag, [0,-1,1], shape=(self.xn,self.xn))\n",
    "        term_kin = sparse.kron(sparse.identity(self.xn), term_kin_partial) + \\\n",
    "            sparse.kron(term_kin_partial, sparse.identity(self.xn))\n",
    "        term_hml = term_kin + sparse.diags(term_ptl.ravel(), 0)\n",
    "        \n",
    "        return term_hml\n",
    "    \n",
    "    def init_evl(self, p_num):\n",
    "        posx = np.random.uniform(-self.xm, self.xm, size=(self.bd, p_num))/10\n",
    "        posy = np.random.uniform(-self.xm, self.xm, size=(self.bd, p_num))/10\n",
    "\n",
    "        evl = np.zeros((self.bd, 6)) # p_num as cutoff for number of smallest evls obtained? fix as 6?\n",
    "        mesh_ptl = self.mesh_ptl(posx, posy)\n",
    "\n",
    "        pbar = tqdm(range(self.bd), desc='Progress', total=self.bd, leave = True, position=0, colour='blue')\n",
    "\n",
    "        for i in range(self.bd):\n",
    "            mesh_hml = self.mesh_hml(mesh_ptl[i])\n",
    "            evl_i, _ = sparse.linalg.eigsh(mesh_hml, which = 'SM')\n",
    "            evl[i] = evl_i\n",
    "\n",
    "            pbar.update()\n",
    "        \n",
    "        return posx, posy, evl\n",
    "\n",
    "    def forward(self, rm, rn, p_num):\n",
    "        self.set_rdsc(rm, rn)\n",
    "        posx_tr, posy_tr, evl_tr = self.init_evl(p_num)\n",
    "\n",
    "        return posx_tr, posy_tr, evl_tr\n",
    "\n",
    "class InvEig(EvalEig):\n",
    "    def __init__(self, eval_para, model_para):\n",
    "        super().__init__(eval_para)\n",
    "        self.mlp_shape = model_para['mlp']\n",
    "    \n",
    "    def set_rdsc(self, rm, rn, p_num):\n",
    "        self.rn = rn\n",
    "        self.rm = rm\n",
    "        self.pn = p_num\n",
    "\n",
    "        # initialise model\n",
    "        #self.ptl = nn.Parameter(torch.rand(self.batch_dim, self.rn-1)) # random parameters\n",
    "        modules = seq_mlp(init = 6, mlp = self.mlp_shape, fin = p_num*2, act = nn.ReLU())\n",
    "        self.mlp = nn.Sequential(*modules)\n",
    "    \n",
    "    def dist_list(self, posx, posy):\n",
    "        \n",
    "\n",
    "    def forward(self, evl):\n",
    "        pos = self.mlp(evl)\n",
    "        pos_x_md, pos_y_md = pos[:,:self.pn], pos[:,self.pn:]\n",
    "        print(pos_x_md.shape, pos_y_md.shape)\n",
    "\n"
   ]
  },
  {
   "cell_type": "code",
   "execution_count": 3,
   "metadata": {},
   "outputs": [],
   "source": [
    "eval_para = {\n",
    "        # model specifics\n",
    "        'precision' : 64, # 32 or 64 bit\n",
    "        'batch_dim' : 1000\n",
    "        }\n",
    "\n",
    "model_para = {\n",
    "        # model\n",
    "        'mlp' : [100, 100],\n",
    "\n",
    "        # training\n",
    "        'epoch' : 5000,\n",
    "        'lr' : 1e-2,\n",
    "\n",
    "        # loss regularisation\n",
    "        'reg1' : 1e-1, # V(0) sign\n",
    "        'reg2' : 1, # V -> 0 as r -> infty\n",
    "        \n",
    "        }\n",
    "\n",
    "eval = EvalEig(eval_para)"
   ]
  },
  {
   "cell_type": "code",
   "execution_count": 4,
   "metadata": {},
   "outputs": [],
   "source": [
    "#eval_grid = [[800], \\\n",
    "#    [10000], \\\n",
    "#        [1, 1, 1, 1, 1, 1, 1, 1, 1, 1]] # rm, rn, para_1\n",
    "#for midx in itertools.product(*eval_grid):\n",
    "#for midx in zip(*eval_grid):\n",
    "    #eval.set_rdsc(midx[0], midx[1])\n",
    "    #ptl_tr = eval.fixed_tr(midx[2], \"coulomb\")\n",
    "    #evl_scl_tr = eval.dsc_eigs(ptl_tr)\n",
    "    #evl_tr = evl_scl_tr[:,:,:eval.evl_cutoff(evl_scl_tr)]\n",
    "#    ptl_tr, evl_tr = eval(midx[0], midx[1], midx[2], \"coulomb\")\n",
    "#    factor = torch.mean(1/evl_tr, dim = 0)\n",
    "#    print(factor[0])\n",
    "#    print(midx, nn.L1Loss()(factor[0],torch.arange(1,factor.shape[1]+1)**2), evl_tr[0,0,0])"
   ]
  },
  {
   "cell_type": "code",
   "execution_count": 10,
   "metadata": {},
   "outputs": [
    {
     "name": "stderr",
     "output_type": "stream",
     "text": [
      "Progress:  34%|\u001b[34m███▍      \u001b[0m| 343/1000 [03:19<05:32,  1.98it/s]"
     ]
    }
   ],
   "source": [
    "posx_tr, posy_tr, evl_tr = eval(1e4, 100, 10)\n",
    "\n",
    "print(evl_tr)\n",
    "print(posx_tr, posy_tr)"
   ]
  },
  {
   "cell_type": "code",
   "execution_count": 20,
   "metadata": {},
   "outputs": [
    {
     "name": "stderr",
     "output_type": "stream",
     "text": [
      "C:\\Users\\Hanse Kim\\AppData\\Local\\Temp\\ipykernel_18760\\1504612038.py:3: FutureWarning: You are using `torch.load` with `weights_only=False` (the current default value), which uses the default pickle module implicitly. It is possible to construct malicious pickle data which will execute arbitrary code during unpickling (See https://github.com/pytorch/pytorch/blob/main/SECURITY.md#untrusted-models for more details). In a future release, the default value for `weights_only` will be flipped to `True`. This limits the functions that could be executed during unpickling. Arbitrary objects will no longer be allowed to be loaded via this mode unless they are explicitly allowlisted by the user via `torch.serialization.add_safe_globals`. We recommend you start setting `weights_only=True` for any use case where you don't have full control of the loaded file. Please open an issue on GitHub for any issues related to this experimental feature.\n",
      "  model.load_state_dict(torch.load('1.pth'))\n",
      "Progress: 100%|\u001b[34m██████████\u001b[0m| 5000/5000 [21:05<00:00,  3.95it/s]\n",
      "Progress: 100%|\u001b[34m██████████\u001b[0m| 5000/5000 [15:28<00:00,  5.53it/s]"
     ]
    }
   ],
   "source": [
    "import pickle\n",
    "with open(\"posx_tr.data\", \"wb\") as fw:\n",
    "    pickle.dump(posx_tr, fw)\n",
    "with open(\"posy_tr.data\", \"wb\") as fw:\n",
    "    pickle.dump(posy_tr, fw)\n",
    "with open(\"evl_tr.data\", \"wb\") as fw:\n",
    "    pickle.dump(evl_tr, fw)"
   ]
  },
  {
   "cell_type": "code",
   "execution_count": 5,
   "metadata": {},
   "outputs": [],
   "source": [
    "import pickle\n",
    "with open(\"posx_tr.data\", \"rb\") as fr:\n",
    "    posx_tr = pickle.load(fr)\n",
    "with open(\"posy_tr.data\", \"rb\") as fr:\n",
    "    posy_tr = pickle.load(fr)\n",
    "with open(\"evl_tr.data\", \"rb\") as fr:\n",
    "    evl_tr = pickle.load(fr)"
   ]
  },
  {
   "cell_type": "code",
   "execution_count": null,
   "metadata": {},
   "outputs": [],
   "source": []
  }
 ],
 "metadata": {
  "kernelspec": {
   "display_name": "Python 3",
   "language": "python",
   "name": "python3"
  },
  "language_info": {
   "codemirror_mode": {
    "name": "ipython",
    "version": 3
   },
   "file_extension": ".py",
   "mimetype": "text/x-python",
   "name": "python",
   "nbconvert_exporter": "python",
   "pygments_lexer": "ipython3",
   "version": "3.11.9"
  }
 },
 "nbformat": 4,
 "nbformat_minor": 2
}
